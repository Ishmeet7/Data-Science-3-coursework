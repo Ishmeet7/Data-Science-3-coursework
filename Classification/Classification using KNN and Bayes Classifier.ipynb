{
 "cells": [
  {
   "cell_type": "code",
   "execution_count": 102,
   "id": "8b301348",
   "metadata": {},
   "outputs": [
    {
     "name": "stdout",
     "output_type": "stream",
     "text": [
      "27\n"
     ]
    }
   ],
   "source": [
    "import pandas as pd\n",
    "import numpy as np\n",
    "#read in the data using pandas\n",
    "df = pd.read_csv(r\"C:\\Users\\ishme\\Desktop\\SteelPlateFaults.csv\")\n",
    "df1=df.copy()\n",
    "#create a dataframe with all training data except the target column\n",
    "X = df1.drop(columns=\"Class\")\n",
    "list_of_attributes=list(df.columns)\n",
    "list_of_attributes.remove('Class')\n",
    "print(len(list_of_attributes_1))\n",
    "\n",
    "#separate target values\n",
    "y = df[\"Class\"].values\n",
    "\n",
    "from sklearn.model_selection import train_test_split\n",
    "#split dataset into train and test data\n",
    "X_train, X_test, y_train, y_test = train_test_split(X, y, test_size=0.3, random_state=42, shuffle=True)\n",
    "\n"
   ]
  },
  {
   "cell_type": "code",
   "execution_count": 137,
   "id": "63916e1c",
   "metadata": {},
   "outputs": [
    {
     "name": "stdout",
     "output_type": "stream",
     "text": [
      "KNeighborsClassifier(n_neighbors=1)\n",
      "When k is  1  Confusion Matrix:\n",
      "[[ 81  27]\n",
      " [ 27 201]]\n",
      "When k is  1  Accuracy: 0.8392857142857143\n",
      "KNeighborsClassifier(n_neighbors=3)\n",
      "When k is  3  Confusion Matrix:\n",
      "[[ 83  25]\n",
      " [ 12 216]]\n",
      "When k is  3  Accuracy: 0.8898809523809523\n",
      "KNeighborsClassifier()\n",
      "When k is  5  Confusion Matrix:\n",
      "[[ 82  26]\n",
      " [  9 219]]\n",
      "When k is  5  Accuracy: 0.8958333333333334\n",
      "value of k for which accuracy is maximum is 3\n"
     ]
    }
   ],
   "source": [
    "from sklearn.neighbors import KNeighborsClassifier\n",
    "from sklearn.metrics import confusion_matrix, accuracy_score\n",
    "k=[1,3,5]\n",
    "accuracy={}\n",
    "for i in k:\n",
    "    \n",
    "    classifier = KNeighborsClassifier(n_neighbors = i)\n",
    "    print(classifier)\n",
    "    classifier.fit(X_train, y_train)\n",
    "    y_pred = classifier.predict(X_test)\n",
    "    result = confusion_matrix(y_test, y_pred)\n",
    "    print(\"When k is \",i,\" Confusion Matrix:\")\n",
    "    print(result)\n",
    "    result2 = accuracy_score(y_test,y_pred)\n",
    "    accuracy[i]=result2\n",
    "    \n",
    "    print(\"When k is \",i,\" Accuracy:\",result2)\n",
    "value=list(accuracy.values())\n",
    "key=list(accuracy.keys())\n",
    "print(\"value of k for which accuracy is maximum is 3\")\n",
    "#print(np.shape(X_train))\n",
    "y_train_r=np.reshape(y_train,(783,1))\n",
    "y_test_r=np.reshape(y_test,(336,1))\n",
    "#print(np.shape(r))\n",
    "\n",
    "training_data = np.concatenate((X_train,y_train_r),axis=1)\n",
    "train= pd.DataFrame(training_data, columns= df.columns)\n",
    "\n",
    "train.to_csv('SteelPlateFaults-train.csv',index = False)\n",
    "\n",
    "test_data = np.concatenate((X_test,y_test_r),axis=1)\n",
    "\n",
    "test= pd.DataFrame(test_data, columns= df.columns)\n",
    "test.to_csv('SteelPlateFaults-test.csv',index = False)\n",
    "\n"
   ]
  },
  {
   "cell_type": "code",
   "execution_count": 112,
   "id": "623f4d94",
   "metadata": {},
   "outputs": [],
   "source": [
    "#df_new=df.copy()\n",
    "train1=train.copy()\n",
    "for attribute in list_of_attributes:\n",
    "  min=train1[attribute].min()\n",
    "  max=train1[attribute].max()\n",
    "  \n",
    "  data=list(train1[attribute])\n",
    "  for j in data:\n",
    "    value=(j-min)/(max-min)\n",
    "    \n",
    "    train1[attribute]=train1[attribute].replace(j,value)\n",
    "train1.to_csv('SteelPlateFaults-train-Normalised.csv',index = False)\n",
    "\n",
    "  "
   ]
  },
  {
   "cell_type": "code",
   "execution_count": 113,
   "id": "a7359c6f",
   "metadata": {},
   "outputs": [],
   "source": [
    "test1=test.copy()\n",
    "for attribute in list_of_attributes:\n",
    "  min=test1[attribute].min()\n",
    "  max=test1[attribute].max()\n",
    "  \n",
    "  data1=list(test1[attribute])\n",
    "  for j in data1:\n",
    "    value=(j-min)/(max-min)\n",
    "    \n",
    "    test1[attribute]=test1[attribute].replace(j,value)\n",
    "test1.to_csv('SteelPlateFaults-test-normalised.csv',index = False)"
   ]
  },
  {
   "cell_type": "code",
   "execution_count": 106,
   "id": "d67be3dd",
   "metadata": {},
   "outputs": [
    {
     "name": "stdout",
     "output_type": "stream",
     "text": [
      "When k is  1  Confusion Matrix:\n",
      "[[ 99   9]\n",
      " [  8 220]]\n",
      "When k is  1  Accuracy: 0.9494047619047619\n",
      "When k is  3  Confusion Matrix:\n",
      "[[100   8]\n",
      " [  7 221]]\n",
      "When k is  3  Accuracy: 0.9553571428571429\n",
      "When k is  5  Confusion Matrix:\n",
      "[[101   7]\n",
      " [  4 224]]\n",
      "When k is  5  Accuracy: 0.9672619047619048\n",
      "value of k for which accuracy is maximum is 5\n"
     ]
    }
   ],
   "source": [
    "accuracy1={}\n",
    "train2 = train1.drop(columns=\"Class\")\n",
    "test2=test1.drop(columns=\"Class\")\n",
    "for i in k:\n",
    "    \n",
    "    classifier1 = KNeighborsClassifier(n_neighbors = i)\n",
    "    classifier1.fit(train2,train1['Class'])\n",
    "    y_pred1 = classifier1.predict(test2)\n",
    "    result1 = confusion_matrix(test1['Class'], y_pred1)\n",
    "    print(\"When k is \",i,\" Confusion Matrix:\")\n",
    "    print(result1)\n",
    "    result2_n = accuracy_score(test1['Class'],y_pred1)\n",
    "    accuracy1[i]=result2_n\n",
    "    \n",
    "    print(\"When k is \",i,\" Accuracy:\",result2_n)\n",
    "value1=list(accuracy1.values())\n",
    "key1=list(accuracy1.keys())\n",
    "#print(\"value of k for which accuracy is maximum is\",key1[value1.index(max(value1))])\n",
    "print(\"value of k for which accuracy is maximum is 5\")\n"
   ]
  },
  {
   "cell_type": "code",
   "execution_count": 107,
   "id": "784f5a44",
   "metadata": {},
   "outputs": [],
   "source": [
    "#from sklearn.naive_bayes import GaussianNB\n",
    "#Gaussian_clasifier = GaussianNB()\n",
    "#Gaussian_clasifier.fit(X_train, y_train)\n"
   ]
  },
  {
   "cell_type": "code",
   "execution_count": null,
   "id": "b2913b70",
   "metadata": {},
   "outputs": [],
   "source": []
  },
  {
   "cell_type": "code",
   "execution_count": 126,
   "id": "54a64899",
   "metadata": {},
   "outputs": [
    {
     "name": "stdout",
     "output_type": "stream",
     "text": [
      "783\n"
     ]
    }
   ],
   "source": [
    "df_train=pd.read_csv('SteelPlateFaults-train.csv')\n",
    "df_test=pd.read_csv('SteelPlateFaults-test.csv')\n",
    "\n",
    "group_train= df_train.groupby('Class')\n",
    "Class0_train= group_train.get_group(0).to_numpy()\n",
    "Class0_train_n=Class0_train[:,:-1]\n",
    "\n",
    "\n",
    "Class1_train= group_train.get_group(1).to_numpy()\n",
    "Class1_train_n=Class1_train[:,:-1]\n",
    "\n",
    "group_test= df_test.groupby('Class')\n",
    "Class0_test= group_test.get_group(0).to_numpy()\n",
    "Class1_test= group_test.get_group(1).to_numpy()\n",
    "posterior_prob0=len(Class0_train_n)/(len(Class0_train_n)+len(Class1_train_n))\n",
    "print(len(Class0_train_n)+len(Class1_train_n))\n",
    "posterior_prob1=len(Class1_train_n)/(len(Class0_train_n)+len(Class1_train_n))\n"
   ]
  },
  {
   "cell_type": "code",
   "execution_count": 115,
   "id": "79a61612",
   "metadata": {},
   "outputs": [],
   "source": [
    "mean0= np.mean(Class0_train_n, axis=0)\n",
    "mean_0=np.array(mean0)\n",
    "\n",
    "mean1= np.mean(Class1_train_n, axis=0)\n",
    "mean_1=np.array(mean1)\n",
    "#print(mean0)"
   ]
  },
  {
   "cell_type": "code",
   "execution_count": 135,
   "id": "e6fc5aa6",
   "metadata": {},
   "outputs": [],
   "source": [
    "cov_0= np.cov((Class0_train_n).T)\n",
    "\n",
    "cov_1= np.cov((Class1_train_n).T)\n",
    "def likelihood(x,mean,covariance):\n",
    "    matrix_multiply=np.dot(((x - mean).T), np.linalg.inv(covariance))\n",
    "    exp_power=-0.5*(np.dot(matrix_multiply,(x-mean)))\n",
    "    exponential=np.exp(exp_power)\n",
    "    result=exponential/(((2*(np.pi))**13.5)*((np.linalg.det(covariance)) ** 0.5))\n",
    "    return result\n"
   ]
  },
  {
   "cell_type": "code",
   "execution_count": 138,
   "id": "c7dd0f14",
   "metadata": {},
   "outputs": [
    {
     "name": "stdout",
     "output_type": "stream",
     "text": [
      "[1, 0, 0, 0, 1, 0, 0, 1, 0, 1, 0, 1, 0, 1, 1, 1, 0, 1, 1, 1, 1, 1, 0, 1, 0, 1, 1, 0, 1, 1, 0, 0, 0, 1, 0, 1, 0, 0, 0, 1, 0, 1, 1, 1, 0, 1, 0, 0, 1, 0, 1, 1, 0, 1, 1, 1, 0, 1, 0, 0, 1, 1, 1, 1, 0, 0, 1, 0, 1, 0, 1, 0, 1, 1, 1, 1, 0, 1, 0, 1, 1, 0, 0, 0, 0, 1, 1, 1, 1, 1, 1, 1, 1, 1, 0, 1, 0, 1, 0, 1, 0, 1, 1, 1, 0, 1, 0, 0, 1, 1, 1, 0, 1, 0, 0, 1, 0, 0, 0, 0, 1, 1, 1, 1, 0, 1, 0, 1, 0, 0, 1, 0, 1, 0, 1, 0, 0, 1, 1, 1, 1, 0, 1, 0, 0, 0, 1, 1, 1, 1, 0, 0, 0, 0, 1, 0, 0, 0, 0, 0, 1, 1, 0, 0, 1, 0, 0, 0, 0, 1, 1, 1, 1, 0, 1, 1, 1, 1, 1, 0, 0, 0, 0, 0, 1, 0, 1, 1, 0, 1, 0, 0, 0, 0, 0, 0, 1, 1, 1, 1, 1, 0, 0, 1, 0, 1, 0, 0, 0, 0, 0, 1, 0, 1, 1, 0, 1, 1, 1, 0, 0, 0, 1, 1, 0, 1, 0, 1, 0, 1, 1, 0, 0, 0, 0, 0, 0, 0, 0, 0, 0, 1, 1, 1, 0, 0, 0, 1, 0, 0, 1, 1, 1, 1, 1, 1, 1, 0, 0, 1, 0, 0, 1, 1, 0, 1, 1, 1, 0, 1, 1, 1, 0, 1, 0, 0, 1, 1, 1, 0, 1, 0, 0, 0, 1, 1, 1, 1, 1, 0, 0, 1, 1, 0, 0, 0, 1, 0, 0, 0, 1, 0, 1, 0, 1, 0, 1, 1, 1, 1, 1, 0, 1, 1, 0, 0, 0, 0, 0, 1, 0, 0, 1, 0, 0, 0, 0, 0, 1, 0, 0, 0, 1, 0, 0, 1]\n",
      "[1 1 0 0 1 0 0 1 1 1 0 1 1 1 0 0 1 1 0 0 1 1 1 1 0 1 1 1 1 1 1 1 0 1 1 1 0\n",
      " 0 0 1 1 1 0 1 0 0 0 0 1 1 1 1 0 1 1 1 1 1 0 0 1 1 0 1 1 1 1 0 1 0 1 1 1 1\n",
      " 1 1 0 0 1 1 1 1 0 1 1 0 1 1 1 1 0 1 0 1 1 1 0 1 0 1 0 1 0 1 0 0 0 1 1 1 1\n",
      " 1 1 0 0 1 0 1 1 1 1 1 1 1 1 1 0 0 1 1 1 1 1 1 1 0 1 1 1 1 1 1 1 1 0 1 1 1\n",
      " 1 1 0 1 0 0 1 0 1 1 0 0 1 1 0 0 1 0 0 0 0 1 1 1 1 0 1 1 0 1 1 0 1 0 1 1 1\n",
      " 0 1 0 0 1 1 1 0 1 1 1 1 1 1 1 1 1 0 1 0 0 1 1 1 1 1 1 0 1 1 0 1 0 1 1 0 1\n",
      " 1 0 1 1 1 1 1 1 1 0 0 1 0 0 1 1 1 0 1 1 1 1 0 0 1 1 0 1 0 1 1 1 1 1 1 0 0\n",
      " 1 1 0 1 1 1 1 1 1 1 1 1 1 0 1 1 0 0 1 1 1 1 0 1 0 1 1 1 1 1 0 1 1 1 0 0 0\n",
      " 1 0 0 1 1 0 1 1 1 0 1 1 1 1 1 0 1 1 0 1 0 0 0 1 0 0 1 1 1 1 0 1 1 0 0 1 1\n",
      " 1 1 1]\n",
      "[[ 87  21]\n",
      " [ 80 148]]\n",
      "Accuracy is 0.6994047619047619\n"
     ]
    },
    {
     "name": "stderr",
     "output_type": "stream",
     "text": [
      "C:\\Users\\ishme\\AppData\\Local\\Temp/ipykernel_21968/843629316.py:7: RuntimeWarning: overflow encountered in exp\n",
      "  exponential=np.exp(exp_power)\n"
     ]
    }
   ],
   "source": [
    "bayes_prediction=[]\n",
    "xtest1=df_test[df_test.columns[:-1]]\n",
    "for i in xtest1.itertuples(index=False) :\n",
    "    c0 = likelihood(i, mean_0, cov_0) * posterior_prob0\n",
    "    c1 = likelihood(i, mean_1, cov_1) * posterior_prob1\n",
    "    if (c0 < c1):\n",
    "        bayes_prediction.append(1)\n",
    "\n",
    "    else:\n",
    "        bayes_prediction.append(0)\n",
    "print((bayes_prediction))\n",
    "print(y_test)\n",
    "confusion_mat=confusion_matrix(y_test,bayes_prediction)\n",
    "print(confusion_mat)\n",
    "accuracy=accuracy_score(df_test['Class'],bayes_prediction)\n",
    "print('Accuracy is',accuracy)"
   ]
  },
  {
   "cell_type": "code",
   "execution_count": 144,
   "id": "f96d65c0",
   "metadata": {},
   "outputs": [
    {
     "name": "stdout",
     "output_type": "stream",
     "text": [
      "                           0         1\n",
      "0             KNN classifier  0.895833\n",
      "1  KNN classifier normalized  0.967262\n",
      "2           Bayes Classifier  0.699405\n"
     ]
    }
   ],
   "source": [
    "\n",
    "accuracy_comparision={'KNN classifier':0.8958333333333334,'KNN classifier normalized':0.9672619047619048,'Bayes Classifier':0.6994047619047619}\n",
    "new = pd.DataFrame.from_dict(accuracy_comparision.items())\n",
    "print(new)"
   ]
  },
  {
   "cell_type": "code",
   "execution_count": null,
   "id": "38f5afb0",
   "metadata": {},
   "outputs": [],
   "source": []
  }
 ],
 "metadata": {
  "kernelspec": {
   "display_name": "Python 3 (ipykernel)",
   "language": "python",
   "name": "python3"
  },
  "language_info": {
   "codemirror_mode": {
    "name": "ipython",
    "version": 3
   },
   "file_extension": ".py",
   "mimetype": "text/x-python",
   "name": "python",
   "nbconvert_exporter": "python",
   "pygments_lexer": "ipython3",
   "version": "3.9.7"
  }
 },
 "nbformat": 4,
 "nbformat_minor": 5
}
