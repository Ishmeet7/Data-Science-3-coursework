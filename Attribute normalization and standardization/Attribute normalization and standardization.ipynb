{
 "cells": [
  {
   "cell_type": "code",
   "execution_count": 1,
   "metadata": {
    "id": "hOnP4bEO5ebk"
   },
   "outputs": [],
   "source": [
    "import pandas as pd                    #importing necessary packages\n",
    "import numpy as np\n",
    "#import matplotlib.pyplot as plt\n",
    "df = pd.read_csv (r'C:\\Users\\ishme\\Desktop\\pima-indians-diabetes.csv')\n",
    "df_new=df.copy()"
   ]
  },
  {
   "cell_type": "code",
   "execution_count": 2,
   "metadata": {
    "colab": {
     "base_uri": "https://localhost:8080/"
    },
    "id": "Ga8gfAh35n6T",
    "outputId": "72284b93-e81b-4639-b79e-0bda99ec1012"
   },
   "outputs": [
    {
     "name": "stdout",
     "output_type": "stream",
     "text": [
      "['pregs', 'plas', 'pres', 'skin', 'test', 'BMI', 'pedi', 'Age', 'class']\n"
     ]
    }
   ],
   "source": [
    "#creating a list of attributes\n",
    "list_of_attributes=list(df.columns)\n",
    "print(list_of_attributes)\n",
    "list_of_attributes_1=list_of_attributes.copy() #creating a copy\n",
    "\n",
    "list_of_attributes_1.remove('class')\n"
   ]
  },
  {
   "cell_type": "code",
   "execution_count": 3,
   "metadata": {
    "id": "ugOn4Asb63MY"
   },
   "outputs": [],
   "source": [
    "median_list=[]\n",
    "for attribute in list_of_attributes_1:\n",
    "  median=df[attribute].median()\n",
    "  median_list.append(median)\n",
    "\n",
    "\n"
   ]
  },
  {
   "cell_type": "code",
   "execution_count": 4,
   "metadata": {
    "colab": {
     "base_uri": "https://localhost:8080/"
    },
    "id": "Q53uc7jL8B90",
    "outputId": "3f8a972e-2a5a-4d33-e65b-be74c03b3aeb"
   },
   "outputs": [
    {
     "name": "stdout",
     "output_type": "stream",
     "text": [
      "[[15, 17, 14, 14], [0, 0, 0, 0, 0], [0, 0, 30, 110, 0, 0, 0, 0, 108, 122, 30, 0, 110, 0, 0, 0, 0, 0, 0, 0, 0, 0, 0, 108, 0, 0, 0, 0, 0, 0, 0, 0, 0, 0, 110, 0, 24, 0, 0, 0, 0, 114, 0, 0, 0], [99], [543, 846, 342, 495, 325, 485, 495, 478, 744, 370, 680, 402, 375, 545, 360, 325, 465, 325, 415, 579, 474, 328, 480, 326, 330, 600, 321, 440, 540, 480, 335, 387, 392, 510], [0.0, 0.0, 0.0, 0.0, 53.2, 55.0, 0.0, 67.1, 52.3, 52.3, 52.9, 0.0, 0.0, 59.4, 0.0, 0.0, 57.3, 0.0, 0.0], [2.288, 1.441, 1.39, 1.893, 1.781, 1.222, 1.4, 1.321, 1.224, 2.329, 1.318, 1.213, 1.353, 1.224, 1.391, 1.476, 2.137, 1.731, 1.268, 1.6, 2.42, 1.251, 1.699, 1.258, 1.282, 1.698, 1.461, 1.292, 1.394], [69, 67, 72, 81, 67, 67, 70, 68, 69]]\n"
     ]
    }
   ],
   "source": [
    "list_outlier=[]\n",
    "q1=list(df_new.quantile(0.25))\n",
    "q3=list(df_new.quantile(0.75))\n",
    "iqr=[]\n",
    "lower_bound=[]\n",
    "upper_bound=[]\n",
    "for i in range(len(q1)):\n",
    "  iqr.append(q3[i]-q1[i])\n",
    "  lower_bound.append(q1[i]-(1.5*iqr[i]))\n",
    "  upper_bound.append(q3[i]+(1.5*iqr[i]))\n",
    "  \n",
    "for i in range(len(list_of_attributes_1)):\n",
    "  list_o=[]\n",
    "  for j in list(df[list_of_attributes_1[i]]):\n",
    "    \n",
    "    if j>=(upper_bound[i]) or j<=(lower_bound[i]):\n",
    "      list_o.append(j)\n",
    "  \n",
    "  list_outlier.append(list_o)\n",
    "print(list_outlier)  \n",
    "\n",
    "\n",
    "\n",
    "#for attribute in list_of_attributes_1:\n",
    "  "
   ]
  },
  {
   "cell_type": "code",
   "execution_count": 5,
   "metadata": {
    "colab": {
     "base_uri": "https://localhost:8080/"
    },
    "id": "VroecsCi53Cn",
    "outputId": "34cc841d-10c9-462f-f084-f7b78ab31f20"
   },
   "outputs": [
    {
     "name": "stdout",
     "output_type": "stream",
     "text": [
      "mean of  pregs is 3.7825520833333335\n",
      "standard deviation of  pregs is 3.270644231185024\n",
      "--------------------\n",
      "mean of  plas is 121.65625\n",
      "standard deviation of  plas is 30.43828582241517\n",
      "--------------------\n",
      "mean of  pres is 72.19661458333333\n",
      "standard deviation of  pres is 11.146722742501327\n",
      "--------------------\n",
      "mean of  skin is 20.4375\n",
      "standard deviation of  skin is 15.698553733035284\n",
      "--------------------\n",
      "mean of  test is 60.919270833333336\n",
      "standard deviation of  test is 77.63566579465224\n",
      "--------------------\n",
      "mean of  BMI is 32.19895833333331\n",
      "standard deviation of  BMI is 6.410557943798963\n",
      "--------------------\n",
      "mean of  pedi is 0.4276673177083332\n",
      "standard deviation of  pedi is 0.2451623740187653\n",
      "--------------------\n",
      "mean of  Age is 32.760416666666664\n",
      "standard deviation of  Age is 11.055384847014682\n",
      "--------------------\n"
     ]
    }
   ],
   "source": [
    "i=0\n",
    "\n",
    "for attribute in list_of_attributes_1:\n",
    "  df_new[attribute]=df_new[attribute].replace(list_outlier[i],median_list[i])\n",
    "  i=i+1\n",
    "mean_list=[]\n",
    "std_list=[]\n",
    "for attribute in list_of_attributes_1:\n",
    "  mean=df_new[attribute].mean()\n",
    "  mean_list.append(mean)\n",
    "  print(\"mean of \",attribute,\"is\",mean)\n",
    "  calculated_standard_deviation=df_new[attribute].std()\n",
    "  std_list.append(calculated_standard_deviation)\n",
    "  print(\"standard deviation of \",attribute,\"is\",calculated_standard_deviation)\n",
    "  print(\"--------------------\")\n"
   ]
  },
  {
   "cell_type": "code",
   "execution_count": 6,
   "metadata": {
    "colab": {
     "base_uri": "https://localhost:8080/"
    },
    "id": "KAxnRHJOEVai",
    "outputId": "8e15155a-688d-472c-8642-f8968301f77e"
   },
   "outputs": [
    {
     "name": "stdout",
     "output_type": "stream",
     "text": [
      "minimum of  pregs is 0.0\n",
      "maximum of  pregs is 13.0\n",
      "new minimum of  pregs is 5.538461538461538\n",
      "new maximum of  pregs is 11.461538461538462\n",
      "--------------------------\n",
      "minimum of  plas is 44.0\n",
      "maximum of  plas is 199.0\n",
      "new minimum of  plas is 5.0\n",
      "new maximum of  plas is 12.0\n",
      "--------------------------\n",
      "minimum of  pres is 38.0\n",
      "maximum of  pres is 106.0\n",
      "new minimum of  pres is 5.0\n",
      "new maximum of  pres is 12.0\n",
      "--------------------------\n",
      "minimum of  skin is 0.0\n",
      "maximum of  skin is 63.0\n",
      "new minimum of  skin is 5.0\n",
      "new maximum of  skin is 11.666666666666666\n",
      "--------------------------\n",
      "minimum of  test is 0.0\n",
      "maximum of  test is 318.0\n",
      "new minimum of  test is 5.0\n",
      "new maximum of  test is 12.0\n",
      "--------------------------\n",
      "minimum of  BMI is 18.2\n",
      "maximum of  BMI is 50.0\n",
      "new minimum of  BMI is 5.0\n",
      "new maximum of  BMI is 12.0\n",
      "--------------------------\n",
      "minimum of  pedi is 0.078\n",
      "maximum of  pedi is 1.191\n",
      "new minimum of  pedi is 5.0\n",
      "new maximum of  pedi is 12.0\n",
      "--------------------------\n",
      "minimum of  Age is 21.0\n",
      "maximum of  Age is 66.0\n",
      "new minimum of  Age is 5.0\n",
      "new maximum of  Age is 12.0\n",
      "--------------------------\n"
     ]
    }
   ],
   "source": [
    "df_new1=df_new.copy()\n",
    "a=5\n",
    "b=12\n",
    "for attribute in list_of_attributes_1:\n",
    "  min=df_new1[attribute].min()\n",
    "  max=df_new1[attribute].max()\n",
    "  print(\"minimum of \",attribute,\"is\",min)\n",
    "  print(\"maximum of \",attribute,\"is\",max)\n",
    "  data=list(df_new1[attribute])\n",
    "  for j in data:\n",
    "    value1=(j-min)/(max-min)\n",
    "    value=((value1)*7)+5\n",
    "    df_new1[attribute]=df_new1[attribute].replace(j,value)\n",
    "  new_min=df_new1[attribute].min()\n",
    "  new_max=df_new1[attribute].max()\n",
    "  print(\"new minimum of \",attribute,\"is\",new_min)\n",
    "  print(\"new maximum of \",attribute,\"is\",new_max)\n",
    "  print(\"--------------------------\")\n",
    "\n"
   ]
  },
  {
   "cell_type": "markdown",
   "metadata": {
    "id": "pTrw4vAD6tmB"
   },
   "source": []
  },
  {
   "cell_type": "code",
   "execution_count": 7,
   "metadata": {
    "colab": {
     "base_uri": "https://localhost:8080/"
    },
    "id": "Xach1-jxIR71",
    "outputId": "41c2d083-7442-43ed-886f-e20a9d576d00"
   },
   "outputs": [
    {
     "name": "stdout",
     "output_type": "stream",
     "text": [
      "new mean of  pregs is -1.3241722533289627e-16\n",
      "new standard deviation of  pregs is 1.0000000000000022\n",
      "new mean of  plas is -5.637851296924623e-18\n",
      "new standard deviation of  plas is 0.9999999999999991\n",
      "new mean of  pres is 4.840239898699453e-16\n",
      "new standard deviation of  pres is 1.000000000000001\n",
      "new mean of  skin is -1.4456028966473392e-19\n",
      "new standard deviation of  skin is 1.0\n",
      "new mean of  test is -1.734723475976807e-17\n",
      "new standard deviation of  test is 0.9999999999999996\n",
      "new mean of  BMI is 3.8968394483474e-15\n",
      "new standard deviation of  BMI is 1.0000000000000002\n",
      "new mean of  pedi is 4.870236158804886e-16\n",
      "new standard deviation of  pedi is 0.9999999999999994\n",
      "new mean of  Age is 1.9371078815074347e-16\n",
      "new standard deviation of  Age is 1.000000000000001\n"
     ]
    }
   ],
   "source": [
    "i=0\n",
    "new_meanl=[]\n",
    "new_stdl=[]\n",
    "df1=df_new.copy()\n",
    "for attribute in list_of_attributes_1:\n",
    "  mean=mean_list[i]\n",
    "  std=std_list[i]\n",
    "  data=list(df1[attribute])\n",
    "  for j in data:\n",
    "    value=(j-mean)/std\n",
    "    df1[attribute]=df1[attribute].replace(j,value)\n",
    "  new_mean=df1[attribute].mean()\n",
    "  new_meanl.append(new_mean)\n",
    "  \n",
    "  new_std=df1[attribute].std()\n",
    "  new_stdl.append(new_std)\n",
    "  print(\"new mean of \",attribute,\"is\",new_mean)\n",
    "  print(\"new standard deviation of \",attribute,\"is\",new_std)\n",
    "  i=i+1\n",
    "\n"
   ]
  },
  {
   "cell_type": "code",
   "execution_count": 37,
   "metadata": {
    "colab": {
     "base_uri": "https://localhost:8080/"
    },
    "id": "1PxYfpip5TFS",
    "outputId": "117f4f21-14d1-4201-d396-62422140dcda"
   },
   "outputs": [
    {
     "name": "stdout",
     "output_type": "stream",
     "text": [
      "(array([14.,  4.]), array([[ 0.9486833 ,  0.31622777],\n",
      "       [-0.31622777,  0.9486833 ]]))\n",
      "eigen values: [14.  4.]\n",
      "eigen vectors: [0.9486833  0.31622777] [-0.31622777  0.9486833 ]\n",
      "[[ 2.97801812 -0.8202724 ]\n",
      " [ 5.0494837  -4.18596813]\n",
      " [ 0.27324181 -3.05859269]\n",
      " ...\n",
      " [-2.14684719  0.87863425]\n",
      " [ 4.21194261 -1.99969863]\n",
      " [ 1.21508535  2.02252965]]\n",
      "(1000, 2)\n"
     ]
    },
    {
     "data": {
      "text/plain": [
       "<matplotlib.quiver.Quiver at 0x1b63615c670>"
      ]
     },
     "execution_count": 37,
     "metadata": {},
     "output_type": "execute_result"
    },
    {
     "data": {
      "image/png": "[encoded data removed]",
      "text/plain": [
       "<Figure size 432x288 with 1 Axes>"
      ]
     },
     "metadata": {
      "needs_background": "light"
     },
     "output_type": "display_data"
    }
   ],
   "source": [
    "import numpy as np\n",
    "import matplotlib.pyplot as plt\n",
    "from sklearn.metrics import mean_squared_error\n",
    "from math import sqrt\n",
    "matrix=[0,0]\n",
    "#mean=np.transpose(matrix)\n",
    "covariance=[[13,-3],[-3,5]]\n",
    "D=np.random.multivariate_normal(matrix,covariance,1000)\n",
    "ans=np.linalg.eig(covariance)\n",
    "print(ans)\n",
    "print('eigen values:',ans[0])\n",
    "print('eigen vectors:',ans[1][0],ans[1][1])\n",
    "eigenvectors=ans[1]\n",
    "eigenvalues=ans[0]\n",
    "#D=np.transpose(d)\n",
    "\n",
    "print(D)\n",
    "D=pd.DataFrame(D,columns=['X1','X2'])\n",
    "projection=D.dot(eigenvectors)\n",
    "#print(\"projection\",projection[0])\n",
    "D.shape\n",
    "#print(eigenvectors[0])\n",
    "x=np.array([i*eigenvectors[:,0] for i in projection[0]])\n",
    "y=np.array([i*eigenvectors[:,1] for i in projection[1]])\n",
    "print(x.shape)\n",
    "plt.scatter(D['X1'], D['X2'])\n",
    "plt.scatter(x[:,0], x[:,1])\n",
    "plt.quiver(0, 0, eigenvectors[0][0], eigenvectors[1][0], scale=3, color='k')\n",
    "plt.quiver(0, 0, eigenvectors[0][1], eigenvectors[1][1], scale=3, color='k')\n",
    "plt.scatter(y[:,0], y[:,1])\n",
    "plt.quiver(0, 0, eigenvectors[0][0], eigenvectors[1][0], scale=3, color='k')\n",
    "plt.quiver(0, 0, eigenvectors[0][1], eigenvectors[1][1], scale=3, color='k')"
   ]
  },
  {
   "cell_type": "code",
   "execution_count": 30,
   "metadata": {
    "colab": {
     "base_uri": "https://localhost:8080/",
     "height": 483
    },
    "id": "lDHqvzomDRwa",
    "outputId": "bf7192e5-ef9a-4800-8c23-8f7f233829d7"
   },
   "outputs": [
    {
     "name": "stdout",
     "output_type": "stream",
     "text": [
      "Euclidean distance :  0.0\n"
     ]
    }
   ],
   "source": [
    "\n",
    "recon_data = projection.dot(eigenvectors.transpose())\n",
    "recon_data = pd.DataFrame(recon_data, columns=['X1', 'X2'])\n",
    "ED = np.sqrt((recon_data.subtract(D) ** 2).sum(axis=1).sum()).sum() / len(D)  # calculating Reconstruction error (ED)\n",
    "print('Euclidean distance : ', ED)\n"
   ]
  },
  {
   "cell_type": "code",
   "execution_count": null,
   "metadata": {},
   "outputs": [],
   "source": []
  }
 ],
 "metadata": {
  "colab": {
   "provenance": []
  },
  "kernelspec": {
   "display_name": "Python 3 (ipykernel)",
   "language": "python",
   "name": "python3"
  },
  "language_info": {
   "codemirror_mode": {
    "name": "ipython",
    "version": 3
   },
   "file_extension": ".py",
   "mimetype": "text/x-python",
   "name": "python",
   "nbconvert_exporter": "python",
   "pygments_lexer": "ipython3",
   "version": "3.9.7"
  }
 },
 "nbformat": 4,
 "nbformat_minor": 1
}
