{
  "nbformat": 4,
  "nbformat_minor": 0,
  "metadata": {
    "colab": {
      "provenance": []
    },
    "kernelspec": {
      "name": "python3",
      "display_name": "Python 3"
    },
    "language_info": {
      "name": "python"
    }
  },
  "cells": [
    {
      "cell_type": "code",
      "execution_count": 39,
      "metadata": {
        "id": "wdgB7AaHPk6U"
      },
      "outputs": [],
      "source": [
        "import numpy as np\n",
        "import matplotlib.pyplot as plt\n",
        "from sklearn.metrics import mean_squared_error\n",
        "from math import sqrt\n",
        "import pandas as pd\n",
        "from sklearn.decomposition import PCA "
      ]
    },
    {
      "cell_type": "code",
      "source": [
        "df = pd.read_csv (r'/content/drive/MyDrive/pima-indians-diabetes.csv')\n",
        "df_new=df.copy()\n"
      ],
      "metadata": {
        "id": "km8oMKwimxYV"
      },
      "execution_count": 31,
      "outputs": []
    },
    {
      "cell_type": "code",
      "source": [
        "#creating a list of attributes\n",
        "list_of_attributes=list(df.columns)\n",
        "print(list_of_attributes)\n",
        "list_of_attributes_1=list_of_attributes.copy() #creating a copy\n",
        "\n",
        "list_of_attributes_1.remove('class')"
      ],
      "metadata": {
        "colab": {
          "base_uri": "https://localhost:8080/"
        },
        "id": "KPOXmY1FoTtK",
        "outputId": "8cfdba64-016b-44d5-82b2-c9411aa2811c"
      },
      "execution_count": 33,
      "outputs": [
        {
          "output_type": "stream",
          "name": "stdout",
          "text": [
            "['pregs', 'plas', 'pres', 'skin', 'test', 'BMI', 'pedi', 'Age', 'class']\n"
          ]
        }
      ]
    },
    {
      "cell_type": "code",
      "source": [
        "mean_list=[]\n",
        "std_list=[]\n",
        "for attribute in list_of_attributes_1:               #finding mean and standard deviation for modified dataframe\n",
        "  mean=df_new[attribute].mean()\n",
        "  mean_list.append(mean)\n",
        "  \n",
        "  calculated_standard_deviation=df_new[attribute].std()\n",
        "  std_list.append(calculated_standard_deviation)"
      ],
      "metadata": {
        "id": "I3YDg_l-oWLH"
      },
      "execution_count": 34,
      "outputs": []
    },
    {
      "cell_type": "code",
      "source": [
        "i=0\n",
        "new_meanl=[]\n",
        "new_stdl=[]\n",
        "df1=df_new.copy()                                 #Standardizing dataframe i.e making it's mean=0 and standard deviation=1\n",
        "for attribute in list_of_attributes_1:\n",
        "  mean=mean_list[i]\n",
        "  std=std_list[i]\n",
        "  data=list(df1[attribute])\n",
        "  for j in data:\n",
        "    value=(j-mean)/std\n",
        "    df1[attribute]=df1[attribute].replace(j,value)\n",
        "  new_mean=df1[attribute].mean()\n",
        "  new_meanl.append(new_mean)"
      ],
      "metadata": {
        "id": "oR0_2pHlnvz1"
      },
      "execution_count": 35,
      "outputs": []
    },
    {
      "cell_type": "code",
      "source": [
        "mean_matrix=[0,0]\n",
        "#mean=np.transpose(matrix)\n",
        "covariance=[[13,-3],[-3,5]]\n",
        "\n",
        "D=np.random.multivariate_normal(mean_matrix,covariance,1000) #Generating synthetic data of 1000 sampleswith given mean and covariance \n",
        "ans=np.linalg.eig(covariance)    #eigen decomposition of covariance matrix gives us matrix of eigen vectors and diagonal matrix containing eigen values\n",
        "#print(ans)\n",
        "#print(D)\n",
        "\n",
        "eigenvectors=ans[1]\n",
        "eigenvalues=ans[0]\n",
        "#D=np.transpose(d)\n",
        "ev1=eigenvectors[:,0]\n",
        "ev2=eigenvectors[:,1]\n",
        "#print(ev1,ev2)                \n",
        "#print(D)\n",
        "\n",
        "principal_data=D.dot(eigenvectors)      #This new matrix is a standardized version of D and each observation is a combination of the original variables\n",
        "\n",
        "plt.scatter(D[:,0],D[:,1])\n",
        "\n",
        "plt.quiver(0, 0, ev1[0],ev1[1], scale=3, color='k') #plotting eigen direction\n",
        "plt.quiver(0, 0, ev2[0],ev2[1], scale=3, color='k')\n",
        "plt.title(\"Plot of 2D synthetic data and eigen directions\")\n"
      ],
      "metadata": {
        "colab": {
          "base_uri": "https://localhost:8080/",
          "height": 298
        },
        "id": "aKg0z_noZ7yy",
        "outputId": "9420ad86-eb48-413f-8abc-6bf59102b644"
      },
      "execution_count": 22,
      "outputs": [
        {
          "output_type": "execute_result",
          "data": {
            "text/plain": [
              "Text(0.5, 1.0, 'Plot of 2D synthetic data and eigen directions')"
            ]
          },
          "metadata": {},
          "execution_count": 22
        },
        {
          "output_type": "display_data",
          "data": {
            "text/plain": [
              "<Figure size 432x288 with 1 Axes>"
            ],
            "image/png": "[encoded data removed]"
          },
          "metadata": {
            "needs_background": "light"
          }
        }
      ]
    },
    {
      "cell_type": "code",
      "source": [
        "X=ev1[0]*principal_data[:,0]       \n",
        "Y=ev1[1]*principal_data[:,0]\n",
        "\n",
        "plt.scatter(D[:,0],D[:,1])\n",
        "plt.quiver(0, 0, ev1[0],ev1[1], scale=3, color='k')\n",
        "plt.quiver(0, 0, ev2[0],ev2[1], scale=3, color='k')\n",
        "plt.scatter(X,Y,color = 'r',alpha = 0.2)\n",
        "plt.title('Projected values onto the first eigen direction')\n",
        "plt.show()"
      ],
      "metadata": {
        "colab": {
          "base_uri": "https://localhost:8080/",
          "height": 281
        },
        "id": "5FvFc-JXhClq",
        "outputId": "6613d75d-1804-4fed-ba6f-6307eb97a714"
      },
      "execution_count": 23,
      "outputs": [
        {
          "output_type": "display_data",
          "data": {
            "text/plain": [
              "<Figure size 432x288 with 1 Axes>"
            ],
            "image/png": "[encoded data removed]"
          },
          "metadata": {
            "needs_background": "light"
          }
        }
      ]
    },
    {
      "cell_type": "code",
      "source": [
        "X=ev2[0]*principal_data[:,1]\n",
        "Y=ev2[1]*principal_data[:,1]\n",
        "\n",
        "plt.scatter(D[:,0],D[:,1])\n",
        "plt.quiver(0, 0, ev1[0],ev1[1], scale=3, color='k')\n",
        "plt.quiver(0, 0, ev2[0],ev2[1], scale=3, color='k')\n",
        "plt.scatter(X,Y,color = 'r',alpha = 0.2)\n",
        "plt.title('Projected values onto the second eigen direction')\n",
        "plt.show()"
      ],
      "metadata": {
        "colab": {
          "base_uri": "https://localhost:8080/",
          "height": 281
        },
        "id": "BUNqUASGdQG-",
        "outputId": "7d699073-247f-4646-cd2c-6fd56bd3afa2"
      },
      "execution_count": 25,
      "outputs": [
        {
          "output_type": "display_data",
          "data": {
            "text/plain": [
              "<Figure size 432x288 with 1 Axes>"
            ],
            "image/png": "[encoded data removed]"
          },
          "metadata": {
            "needs_background": "light"
          }
        }
      ]
    },
    {
      "cell_type": "code",
      "source": [
        "df_2=df1.copy()\n",
        "df_2.drop(columns='class')"
      ],
      "metadata": {
        "colab": {
          "base_uri": "https://localhost:8080/",
          "height": 424
        },
        "id": "C-t5V1ZtkYjW",
        "outputId": "e123bc84-e16d-4426-e5ad-329a5f93abf4"
      },
      "execution_count": 36,
      "outputs": [
        {
          "output_type": "execute_result",
          "data": {
            "text/plain": [
              "        pregs       plas       pres       skin       test        BMI  \\\n",
              "0    0.639530  42.781305  20.226553   9.245949  -1.141108   8.830467   \n",
              "1   -0.844335  24.084602  18.445914   7.465311  -1.141108   6.753056   \n",
              "2    1.233077  53.168363  17.852368  -1.141108  -1.141108   5.773704   \n",
              "3   -0.844335  25.271695  18.445914   5.684673  26.755560   7.198215   \n",
              "4   -1.141108  39.516802  10.729815   9.245949  48.716767  11.649811   \n",
              "..        ...        ...        ...        ...        ...        ...   \n",
              "763  1.826623  28.832971  21.413645  13.103999  52.278043   8.622726   \n",
              "764 -0.547562  35.065206  19.633006   6.871765  -1.141108   9.780141   \n",
              "765  0.342757  34.768433  20.226553   5.684673  32.097475   6.634346   \n",
              "766 -0.844335  36.252298  16.665276  -1.141108  -1.141108   7.791761   \n",
              "767 -0.844335  26.458787  19.633006   8.058857  -1.141108   7.880793   \n",
              "\n",
              "         pedi        Age  \n",
              "0   -0.955031  13.697545  \n",
              "1   -1.036941   8.058857  \n",
              "2   -0.941676   8.355630  \n",
              "3   -1.091547   5.091126  \n",
              "4   -0.462091   8.652403  \n",
              "..        ...        ...  \n",
              "763 -1.090360  17.555595  \n",
              "764 -1.040205   6.871765  \n",
              "765 -1.068398   7.762084  \n",
              "766 -1.037534  12.807226  \n",
              "767 -1.047624   5.684673  \n",
              "\n",
              "[768 rows x 8 columns]"
            ],
            "text/html": [
              "\n",
              "  <div id=\"df-ec93879f-5f7f-4b58-8346-5f797cd42f0c\">\n",
              "    <div class=\"colab-df-container\">\n",
              "      <div>\n",
              "<style scoped>\n",
              "    .dataframe tbody tr th:only-of-type {\n",
              "        vertical-align: middle;\n",
              "    }\n",
              "\n",
              "    .dataframe tbody tr th {\n",
              "        vertical-align: top;\n",
              "    }\n",
              "\n",
              "    .dataframe thead th {\n",
              "        text-align: right;\n",
              "    }\n",
              "</style>\n",
              "<table border=\"1\" class=\"dataframe\">\n",
              "  <thead>\n",
              "    <tr style=\"text-align: right;\">\n",
              "      <th></th>\n",
              "      <th>pregs</th>\n",
              "      <th>plas</th>\n",
              "      <th>pres</th>\n",
              "      <th>skin</th>\n",
              "      <th>test</th>\n",
              "      <th>BMI</th>\n",
              "      <th>pedi</th>\n",
              "      <th>Age</th>\n",
              "    </tr>\n",
              "  </thead>\n",
              "  <tbody>\n",
              "    <tr>\n",
              "      <th>0</th>\n",
              "      <td>0.639530</td>\n",
              "      <td>42.781305</td>\n",
              "      <td>20.226553</td>\n",
              "      <td>9.245949</td>\n",
              "      <td>-1.141108</td>\n",
              "      <td>8.830467</td>\n",
              "      <td>-0.955031</td>\n",
              "      <td>13.697545</td>\n",
              "    </tr>\n",
              "    <tr>\n",
              "      <th>1</th>\n",
              "      <td>-0.844335</td>\n",
              "      <td>24.084602</td>\n",
              "      <td>18.445914</td>\n",
              "      <td>7.465311</td>\n",
              "      <td>-1.141108</td>\n",
              "      <td>6.753056</td>\n",
              "      <td>-1.036941</td>\n",
              "      <td>8.058857</td>\n",
              "    </tr>\n",
              "    <tr>\n",
              "      <th>2</th>\n",
              "      <td>1.233077</td>\n",
              "      <td>53.168363</td>\n",
              "      <td>17.852368</td>\n",
              "      <td>-1.141108</td>\n",
              "      <td>-1.141108</td>\n",
              "      <td>5.773704</td>\n",
              "      <td>-0.941676</td>\n",
              "      <td>8.355630</td>\n",
              "    </tr>\n",
              "    <tr>\n",
              "      <th>3</th>\n",
              "      <td>-0.844335</td>\n",
              "      <td>25.271695</td>\n",
              "      <td>18.445914</td>\n",
              "      <td>5.684673</td>\n",
              "      <td>26.755560</td>\n",
              "      <td>7.198215</td>\n",
              "      <td>-1.091547</td>\n",
              "      <td>5.091126</td>\n",
              "    </tr>\n",
              "    <tr>\n",
              "      <th>4</th>\n",
              "      <td>-1.141108</td>\n",
              "      <td>39.516802</td>\n",
              "      <td>10.729815</td>\n",
              "      <td>9.245949</td>\n",
              "      <td>48.716767</td>\n",
              "      <td>11.649811</td>\n",
              "      <td>-0.462091</td>\n",
              "      <td>8.652403</td>\n",
              "    </tr>\n",
              "    <tr>\n",
              "      <th>...</th>\n",
              "      <td>...</td>\n",
              "      <td>...</td>\n",
              "      <td>...</td>\n",
              "      <td>...</td>\n",
              "      <td>...</td>\n",
              "      <td>...</td>\n",
              "      <td>...</td>\n",
              "      <td>...</td>\n",
              "    </tr>\n",
              "    <tr>\n",
              "      <th>763</th>\n",
              "      <td>1.826623</td>\n",
              "      <td>28.832971</td>\n",
              "      <td>21.413645</td>\n",
              "      <td>13.103999</td>\n",
              "      <td>52.278043</td>\n",
              "      <td>8.622726</td>\n",
              "      <td>-1.090360</td>\n",
              "      <td>17.555595</td>\n",
              "    </tr>\n",
              "    <tr>\n",
              "      <th>764</th>\n",
              "      <td>-0.547562</td>\n",
              "      <td>35.065206</td>\n",
              "      <td>19.633006</td>\n",
              "      <td>6.871765</td>\n",
              "      <td>-1.141108</td>\n",
              "      <td>9.780141</td>\n",
              "      <td>-1.040205</td>\n",
              "      <td>6.871765</td>\n",
              "    </tr>\n",
              "    <tr>\n",
              "      <th>765</th>\n",
              "      <td>0.342757</td>\n",
              "      <td>34.768433</td>\n",
              "      <td>20.226553</td>\n",
              "      <td>5.684673</td>\n",
              "      <td>32.097475</td>\n",
              "      <td>6.634346</td>\n",
              "      <td>-1.068398</td>\n",
              "      <td>7.762084</td>\n",
              "    </tr>\n",
              "    <tr>\n",
              "      <th>766</th>\n",
              "      <td>-0.844335</td>\n",
              "      <td>36.252298</td>\n",
              "      <td>16.665276</td>\n",
              "      <td>-1.141108</td>\n",
              "      <td>-1.141108</td>\n",
              "      <td>7.791761</td>\n",
              "      <td>-1.037534</td>\n",
              "      <td>12.807226</td>\n",
              "    </tr>\n",
              "    <tr>\n",
              "      <th>767</th>\n",
              "      <td>-0.844335</td>\n",
              "      <td>26.458787</td>\n",
              "      <td>19.633006</td>\n",
              "      <td>8.058857</td>\n",
              "      <td>-1.141108</td>\n",
              "      <td>7.880793</td>\n",
              "      <td>-1.047624</td>\n",
              "      <td>5.684673</td>\n",
              "    </tr>\n",
              "  </tbody>\n",
              "</table>\n",
              "<p>768 rows × 8 columns</p>\n",
              "</div>\n",
              "      <button class=\"colab-df-convert\" onclick=\"convertToInteractive('df-ec93879f-5f7f-4b58-8346-5f797cd42f0c')\"\n",
              "              title=\"Convert this dataframe to an interactive table.\"\n",
              "              style=\"display:none;\">\n",
              "        \n",
              "  <svg xmlns=\"http://www.w3.org/2000/svg\" height=\"24px\"viewBox=\"0 0 24 24\"\n",
              "       width=\"24px\">\n",
              "    <path d=\"M0 0h24v24H0V0z\" fill=\"none\"/>\n",
              "    <path d=\"M18.56 5.44l.94 2.06.94-2.06 2.06-.94-2.06-.94-.94-2.06-.94 2.06-2.06.94zm-11 1L8.5 8.5l.94-2.06 2.06-.94-2.06-.94L8.5 2.5l-.94 2.06-2.06.94zm10 10l.94 2.06.94-2.06 2.06-.94-2.06-.94-.94-2.06-.94 2.06-2.06.94z\"/><path d=\"M17.41 7.96l-1.37-1.37c-.4-.4-.92-.59-1.43-.59-.52 0-1.04.2-1.43.59L10.3 9.45l-7.72 7.72c-.78.78-.78 2.05 0 2.83L4 21.41c.39.39.9.59 1.41.59.51 0 1.02-.2 1.41-.59l7.78-7.78 2.81-2.81c.8-.78.8-2.07 0-2.86zM5.41 20L4 18.59l7.72-7.72 1.47 1.35L5.41 20z\"/>\n",
              "  </svg>\n",
              "      </button>\n",
              "      \n",
              "  <style>\n",
              "    .colab-df-container {\n",
              "      display:flex;\n",
              "      flex-wrap:wrap;\n",
              "      gap: 12px;\n",
              "    }\n",
              "\n",
              "    .colab-df-convert {\n",
              "      background-color: #E8F0FE;\n",
              "      border: none;\n",
              "      border-radius: 50%;\n",
              "      cursor: pointer;\n",
              "      display: none;\n",
              "      fill: #1967D2;\n",
              "      height: 32px;\n",
              "      padding: 0 0 0 0;\n",
              "      width: 32px;\n",
              "    }\n",
              "\n",
              "    .colab-df-convert:hover {\n",
              "      background-color: #E2EBFA;\n",
              "      box-shadow: 0px 1px 2px rgba(60, 64, 67, 0.3), 0px 1px 3px 1px rgba(60, 64, 67, 0.15);\n",
              "      fill: #174EA6;\n",
              "    }\n",
              "\n",
              "    [theme=dark] .colab-df-convert {\n",
              "      background-color: #3B4455;\n",
              "      fill: #D2E3FC;\n",
              "    }\n",
              "\n",
              "    [theme=dark] .colab-df-convert:hover {\n",
              "      background-color: #434B5C;\n",
              "      box-shadow: 0px 1px 3px 1px rgba(0, 0, 0, 0.15);\n",
              "      filter: drop-shadow(0px 1px 2px rgba(0, 0, 0, 0.3));\n",
              "      fill: #FFFFFF;\n",
              "    }\n",
              "  </style>\n",
              "\n",
              "      <script>\n",
              "        const buttonEl =\n",
              "          document.querySelector('#df-ec93879f-5f7f-4b58-8346-5f797cd42f0c button.colab-df-convert');\n",
              "        buttonEl.style.display =\n",
              "          google.colab.kernel.accessAllowed ? 'block' : 'none';\n",
              "\n",
              "        async function convertToInteractive(key) {\n",
              "          const element = document.querySelector('#df-ec93879f-5f7f-4b58-8346-5f797cd42f0c');\n",
              "          const dataTable =\n",
              "            await google.colab.kernel.invokeFunction('convertToInteractive',\n",
              "                                                     [key], {});\n",
              "          if (!dataTable) return;\n",
              "\n",
              "          const docLinkHtml = 'Like what you see? Visit the ' +\n",
              "            '<a target=\"_blank\" href=https://colab.research.google.com/notebooks/data_table.ipynb>data table notebook</a>'\n",
              "            + ' to learn more about interactive tables.';\n",
              "          element.innerHTML = '';\n",
              "          dataTable['output_type'] = 'display_data';\n",
              "          await google.colab.output.renderOutput(dataTable, element);\n",
              "          const docLink = document.createElement('div');\n",
              "          docLink.innerHTML = docLinkHtml;\n",
              "          element.appendChild(docLink);\n",
              "        }\n",
              "      </script>\n",
              "    </div>\n",
              "  </div>\n",
              "  "
            ]
          },
          "metadata": {},
          "execution_count": 36
        }
      ]
    },
    {
      "cell_type": "code",
      "source": [
        "pca = PCA(n_components=2).fit_transform(df_2) #reducing 8 dimension data to 2 dimension"
      ],
      "metadata": {
        "id": "ik0PUOy-o0xX"
      },
      "execution_count": 40,
      "outputs": []
    },
    {
      "cell_type": "code",
      "source": [
        "variance=pca.var() \n",
        "print(\"Variance of the projected data along the 2 direction is\",variance)"
      ],
      "metadata": {
        "colab": {
          "base_uri": "https://localhost:8080/"
        },
        "id": "6L29jpOspd_P",
        "outputId": "e8119c73-fedd-4ec1-a1f8-a7f380b227b3"
      },
      "execution_count": 48,
      "outputs": [
        {
          "output_type": "stream",
          "name": "stdout",
          "text": [
            "Variance of the projected data along the 2 direction is 632.8650146650208\n"
          ]
        }
      ]
    },
    {
      "cell_type": "code",
      "source": [
        "plt.scatter(pca[:,0],pca[:,1])\n",
        "plt.title('Scatter plot of reduced dimensional data')  # plotting reduced data"
      ],
      "metadata": {
        "colab": {
          "base_uri": "https://localhost:8080/",
          "height": 298
        },
        "id": "yFXKKKbSphjn",
        "outputId": "6833b9ab-15b0-4677-89b6-944289fc7b80"
      },
      "execution_count": 46,
      "outputs": [
        {
          "output_type": "execute_result",
          "data": {
            "text/plain": [
              "Text(0.5, 1.0, 'Scatter plot of reduced dimensional data')"
            ]
          },
          "metadata": {},
          "execution_count": 46
        },
        {
          "output_type": "display_data",
          "data": {
            "text/plain": [
              "<Figure size 432x288 with 1 Axes>"
            ],
            "image/png": "[encoded data removed]"
          },
          "metadata": {
            "needs_background": "light"
          }
        }
      ]
    },
    {
      "cell_type": "code",
      "source": [
        "df_2_t=np.transpose(df_2)\n",
        "covariance=np.dot(df_2_t,df_2)\n",
        "ans=np.linalg.eig(covariance)    #eigen decomposition of covariance matrix gives us matrix of eigen vectors and diagonal matrix containing eigen value\n",
        "eigenvectors=ans[1]\n",
        "eigenvalues=ans[0]\n",
        "print(eigenvalues)"
      ],
      "metadata": {
        "colab": {
          "base_uri": "https://localhost:8080/"
        },
        "id": "OzSD3KDD0jNE",
        "outputId": "5c4ae6d5-528f-4364-ceb1-25d40f285ed0"
      },
      "execution_count": 54,
      "outputs": [
        {
          "output_type": "stream",
          "name": "stdout",
          "text": [
            "[2.16008966e+06 5.42016220e+05 3.24486903e+04 1.34089137e+04\n",
            " 7.72136036e+03 3.56639543e+03 5.85151769e+02 1.35548358e+02\n",
            " 3.04733764e+01]\n"
          ]
        }
      ]
    },
    {
      "cell_type": "code",
      "source": [
        "plt.hist(eigenvalues)  # plotting eigenvalues in descending order\n",
        "plt.title('EigenValues')\n",
        "plt.show()"
      ],
      "metadata": {
        "colab": {
          "base_uri": "https://localhost:8080/",
          "height": 294
        },
        "id": "XOBwnrY6z2Vz",
        "outputId": "270c4645-b5cb-4d9d-9ba0-31c8e3c2747b"
      },
      "execution_count": 55,
      "outputs": [
        {
          "output_type": "display_data",
          "data": {
            "text/plain": [
              "<Figure size 432x288 with 1 Axes>"
            ],
            "image/png": "[encoded data removed]"
          },
          "metadata": {
            "needs_background": "light"
          }
        }
      ]
    }
  ]
}