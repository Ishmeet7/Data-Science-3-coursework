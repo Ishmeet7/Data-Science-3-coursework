{
  "nbformat": 4,
  "nbformat_minor": 0,
  "metadata": {
    "colab": {
      "provenance": [],
      "collapsed_sections": []
    },
    "kernelspec": {
      "name": "python3",
      "display_name": "Python 3"
    },
    "language_info": {
      "name": "python"
    }
  },
  "cells": [
    {
      "cell_type": "code",
      "execution_count": 5,
      "metadata": {
        "id": "0Guzz191hP9o"
      },
      "outputs": [],
      "source": [
        "import pandas as pd              #importing necessary packages\n",
        "import matplotlib.pyplot as plt\n",
        "import numpy as np\n",
        "df=pd.read_csv(r\"/content/drive/MyDrive/landslide_data3_miss.csv\") #missing file\n",
        "df_w=df.copy() #creating copy of dataframe\n"
      ]
    },
    {
      "cell_type": "code",
      "source": [
        "# count of missing values in each column\n",
        "print(\"number of missing values in each column\",df.isnull().sum())\n",
        "y_points=np.array(df.isnull().sum())\n",
        "x_points=list(df.columns)\n",
        "\n",
        "plt.plot(x_points,y_points,)\n",
        "plt.xticks(rotation='vertical')\n",
        "\n",
        "plt.title(\"number of missing values in each column\")\n"
      ],
      "metadata": {
        "colab": {
          "base_uri": "https://localhost:8080/",
          "height": 527
        },
        "id": "LAJwdwV4jV_O",
        "outputId": "55f73239-b1ba-4932-c0d5-e28d89edf415"
      },
      "execution_count": 6,
      "outputs": [
        {
          "output_type": "stream",
          "name": "stdout",
          "text": [
            "number of missing values in each column dates            0\n",
            "stationid       19\n",
            "temperature     66\n",
            "humidity        45\n",
            "pressure        77\n",
            "rain            38\n",
            "lightavgw/o0    47\n",
            "lightmax        31\n",
            "moisture        31\n",
            "dtype: int64\n"
          ]
        },
        {
          "output_type": "execute_result",
          "data": {
            "text/plain": [
              "Text(0.5, 1.0, 'number of missing values in each column')"
            ]
          },
          "metadata": {},
          "execution_count": 6
        },
        {
          "output_type": "display_data",
          "data": {
            "text/plain": [
              "<Figure size 432x288 with 1 Axes>"
            ],
            "image/png": "[encoded data removed]"
          },
          "metadata": {
            "needs_background": "light"
          }
        }
      ]
    },
    {
      "cell_type": "code",
      "source": [
        "modified_df = df_w.dropna( how='any',subset=['stationid'])    #dropping missing values in station id\n",
        "originaldf_rows=df.shape[0]           \n",
        "modifieddf_rows=modified_df.shape[0]\n",
        "deleted_row=originaldf_rows-modifieddf_rows\n",
        "print(\"Number of deleted rows:\",deleted_row)\n",
        "\n"
      ],
      "metadata": {
        "colab": {
          "base_uri": "https://localhost:8080/"
        },
        "id": "aEnAW5yop4WA",
        "outputId": "1ead7fd3-59da-4426-9963-d79bcc1e7abf"
      },
      "execution_count": 7,
      "outputs": [
        {
          "output_type": "stream",
          "name": "stdout",
          "text": [
            "Number of deleted rows: 19\n"
          ]
        }
      ]
    },
    {
      "cell_type": "code",
      "source": [
        "\n",
        "df_new=df_w[df_w.isnull().sum(axis=1)<(1/3)*(len(df.columns))]       \n",
        "df_new_c=modified_df[modified_df.isnull().sum(axis=1)<(1/3)*(len(df.columns))]\n",
        "\n",
        "deleted_row1=df_w.shape[0]-df_new.shape[0]\n",
        "print(\"Number of deleted rows:\",deleted_row1)\n",
        "\n",
        "print(\"number of missing values in each column\",df_new.isnull().sum())\n",
        "print(\"number of total missing values\",df_new.isnull().sum().sum())\n",
        "print(\"number of missing values in each column\",df_new_c.isnull().sum())\n",
        "print(\"number of total missing values\",df_new_c.isnull().sum().sum())\n",
        "\n",
        "\n"
      ],
      "metadata": {
        "colab": {
          "base_uri": "https://localhost:8080/"
        },
        "id": "Yvo_Hwfo9kML",
        "outputId": "546e8d02-11d6-4b47-e14a-17aa1ff001a8"
      },
      "execution_count": 26,
      "outputs": [
        {
          "output_type": "stream",
          "name": "stdout",
          "text": [
            "Number of deleted rows: 39\n",
            "number of missing values in each column dates            0\n",
            "stationid       15\n",
            "temperature     34\n",
            "humidity        13\n",
            "pressure        41\n",
            "rain             7\n",
            "lightavgw/o0    15\n",
            "lightmax         1\n",
            "moisture         6\n",
            "dtype: int64\n",
            "number of total missing values 132\n",
            "number of missing values in each column dates            0\n",
            "stationid        0\n",
            "temperature     34\n",
            "humidity        13\n",
            "pressure        41\n",
            "rain             6\n",
            "lightavgw/o0    15\n",
            "lightmax         1\n",
            "moisture         6\n",
            "dtype: int64\n",
            "number of total missing values 116\n"
          ]
        }
      ]
    },
    {
      "cell_type": "code",
      "source": [
        "df_2=df.copy()\n",
        "list_of_attributes=list(df_w.columns)\n",
        "list_of_attributes.remove('stationid')\n",
        "list_of_attributes.remove('dates')\n",
        "for attribute in list_of_attributes:\n",
        "  calculated_mean=df_w[attribute].mean()\n",
        "  df_2.fillna(value=calculated_mean,inplace=True)\n"
      ],
      "metadata": {
        "id": "BhNl95JoEV4b"
      },
      "execution_count": 25,
      "outputs": []
    },
    {
      "cell_type": "code",
      "source": [
        "df_orig=pd.read_csv(r'/content/drive/MyDrive/landslide_data3_original.csv') #df without normal values\n",
        "\n",
        "\n",
        "for attribute in list_of_attributes:\n",
        "  calculated_mean=df_orig[attribute].mean()\n",
        "  new_mean=df_2[attribute].mean()\n",
        "  print(\"mean of original file \",attribute,\"is\",calculated_mean)\n",
        "  print(\"mean of new file \",attribute,\"is\",new_mean)\n",
        "\n",
        "  calculated_median=df_orig[attribute].median()\n",
        "  new_median=df_2[attribute].median()\n",
        "  print(\"median of original file \",attribute,\"is\",calculated_median)\n",
        "  print(\"median of new file \",attribute,\"is\",new_median)\n",
        "\n",
        "  calculated_mode=df_orig[attribute].mode()\n",
        "  new_mode=df_2[attribute].mode()\n",
        "  print(\"mode of original file \",attribute,\"is\",calculated_mode)\n",
        "  print(\"mode of new file \",attribute,\"is\",new_mode)\n",
        "\n",
        "  calculated_standard_deviation=df_orig[attribute].std()\n",
        "  new_std=df_2[attribute].std()\n",
        "  print(\"standard deviation of original file\",attribute,\"is\",calculated_standard_deviation)\n",
        "  print(\"standard deviation of new file \",attribute,\"is\",new_std)\n",
        "  print(\"-------------------\")\n",
        "\n",
        "\n"
      ],
      "metadata": {
        "id": "LAjcs4-xIqIz",
        "colab": {
          "base_uri": "https://localhost:8080/"
        },
        "outputId": "bca098c2-7433-4ad8-af10-4eca79ccf138"
      },
      "execution_count": 10,
      "outputs": [
        {
          "output_type": "stream",
          "name": "stdout",
          "text": [
            "mean of original file  temperature is 21.2148881058201\n",
            "mean of new file  temperature is 21.07854536973834\n",
            "median of original file  temperature is 22.27273\n",
            "median of new file  temperature is 21.8\n",
            "mode of original file  temperature is 0    12.72727\n",
            "dtype: float64\n",
            "mode of new file  temperature is 0    21.078545\n",
            "dtype: float64\n",
            "standard deviation of original file temperature is 4.355817940432199\n",
            "standard deviation of new file  temperature is 4.243347000299791\n",
            "-------------------\n",
            "mean of original file  humidity is 83.47993155555555\n",
            "mean of new file  humidity is 80.30056385358543\n",
            "median of original file  humidity is 91.38095\n",
            "median of new file  humidity is 90.11905\n",
            "mode of original file  humidity is 0    99.0\n",
            "dtype: float64\n",
            "mode of new file  humidity is 0    99.0\n",
            "dtype: float64\n",
            "standard deviation of original file humidity is 18.210064667980546\n",
            "standard deviation of new file  humidity is 22.324738144323277\n",
            "-------------------\n",
            "mean of original file  pressure is 1009.0087738022222\n",
            "mean of new file  pressure is 928.70958131182\n",
            "median of original file  pressure is 1014.677832\n",
            "median of new file  pressure is 1014.070741\n",
            "mode of original file  pressure is 0    789.392692\n",
            "dtype: float64\n",
            "mode of new file  pressure is 0    21.078545\n",
            "dtype: float64\n",
            "standard deviation of original file pressure is 46.98047725024857\n",
            "standard deviation of new file  pressure is 274.22674411887925\n",
            "-------------------\n",
            "mean of original file  rain is 10701.53837037037\n",
            "mean of new file  rain is 10503.548936215924\n",
            "median of original file  rain is 18.0\n",
            "median of new file  rain is 21.078545369738336\n",
            "mode of original file  rain is 0    0.0\n",
            "dtype: float64\n",
            "mode of new file  rain is 0    0.0\n",
            "dtype: float64\n",
            "standard deviation of original file rain is 24852.255288053453\n",
            "standard deviation of new file  rain is 24667.842036641494\n",
            "-------------------\n",
            "mean of original file  lightavgw/o0 is 4438.428453333333\n",
            "mean of new file  lightavgw/o0 is 4211.6020649019865\n",
            "median of original file  lightavgw/o0 is 1656.88\n",
            "median of new file  lightavgw/o0 is 1282.0667\n",
            "mode of original file  lightavgw/o0 is 0    4488.9103\n",
            "dtype: float64\n",
            "mode of new file  lightavgw/o0 is 0    4488.9103\n",
            "dtype: float64\n",
            "standard deviation of original file lightavgw/o0 is 7573.162806138657\n",
            "standard deviation of new file  lightavgw/o0 is 7462.488734008393\n",
            "-------------------\n",
            "mean of original file  lightmax is 21788.62328042328\n",
            "mean of new file  lightmax is 20940.637497255513\n",
            "median of original file  lightmax is 6634.0\n",
            "median of new file  lightmax is 6495.0\n",
            "mode of original file  lightmax is 0    4000\n",
            "dtype: int64\n",
            "mode of new file  lightmax is 0    4000.0\n",
            "dtype: float64\n",
            "standard deviation of original file lightmax is 22064.993088694104\n",
            "standard deviation of new file  lightmax is 22018.23954150084\n",
            "-------------------\n",
            "mean of original file  moisture is 32.38605259259259\n",
            "mean of new file  moisture is 32.291655033293004\n",
            "median of original file  moisture is 16.7042\n",
            "median of new file  moisture is 17.7234\n",
            "mode of original file  moisture is 0    0.0\n",
            "dtype: float64\n",
            "mode of new file  moisture is 0    0.0\n",
            "dtype: float64\n",
            "standard deviation of original file moisture is 33.653244650764854\n",
            "standard deviation of new file  moisture is 33.479622452673276\n",
            "-------------------\n"
          ]
        }
      ]
    },
    {
      "cell_type": "code",
      "source": [
        "y_pts=[]\n",
        "for attribute in list_of_attributes:\n",
        "    diff=(df_orig[attribute]-df_2[attribute])**2\n",
        "    rmse=((diff).mean())**0.5\n",
        "    \n",
        "    y_pts.append(rmse)\n",
        "print(y_pts)\n",
        "\n",
        "plt.plot(list_of_attributes,y_pts)\n",
        "plt.xticks(rotation='vertical')\n",
        "\n",
        "    \n",
        "\n",
        "    \n",
        "  \n"
      ],
      "metadata": {
        "id": "-aBbextDUhAU",
        "colab": {
          "base_uri": "https://localhost:8080/",
          "height": 355
        },
        "outputId": "06c29423-306b-46c2-fd3e-0301f42c1863"
      },
      "execution_count": 17,
      "outputs": [
        {
          "output_type": "stream",
          "name": "stdout",
          "text": [
            "[0.9923316286617758, 14.834909547938599, 281.59570010572526, 3648.6346861134034, 1901.259771326379, 6185.218148594085, 3.7107025056457363]\n"
          ]
        },
        {
          "output_type": "execute_result",
          "data": {
            "text/plain": [
              "([0, 1, 2, 3, 4, 5, 6], <a list of 7 Text major ticklabel objects>)"
            ]
          },
          "metadata": {},
          "execution_count": 17
        },
        {
          "output_type": "display_data",
          "data": {
            "text/plain": [
              "<Figure size 432x288 with 1 Axes>"
            ],
            "image/png": "[encoded data removed]"
          },
          "metadata": {
            "needs_background": "light"
          }
        }
      ]
    },
    {
      "cell_type": "code",
      "source": [
        "import matplotlib.pyplot as plt \n",
        "df_new1=df_w.interpolate()\n",
        "\n",
        "     \n",
        "  \n",
        "\n",
        "\n"
      ],
      "metadata": {
        "id": "1MnvnFtQLynB",
        "colab": {
          "base_uri": "https://localhost:8080/",
          "height": 736
        },
        "outputId": "ddf979e2-fa03-4735-aa8f-79b2c1e936df"
      },
      "execution_count": 28,
      "outputs": [
        {
          "output_type": "display_data",
          "data": {
            "text/plain": [
              "<Figure size 432x288 with 1 Axes>"
            ],
            "image/png": "[encoded data removed]"
          },
          "metadata": {
            "needs_background": "light"
          }
        },
        {
          "output_type": "stream",
          "name": "stdout",
          "text": [
            "temperature       18.314690\n",
            "humidity          73.136805\n",
            "pressure        1009.620000\n",
            "rain               0.000000\n",
            "lightavgw/o0     417.039200\n",
            "lightmax        4000.000000\n",
            "moisture           2.993000\n",
            "Name: 0.25, dtype: float64\n",
            "[18.31469, 73.13680500000001, 1009.62, 0.0, 417.0392, 4000.0, 2.993]\n",
            "[24.41667, 98.605635, 1020.820611, 987.75, 4488.9103, 54612.0, 64.5357]\n",
            "outliers in temperature: [7.6729, 7.6729, 7.6729, 7.6729, 7.6729, 7.6729, 7.6729, 7.6729, 7.6729, 7.6729]\n"
          ]
        },
        {
          "output_type": "display_data",
          "data": {
            "text/plain": [
              "<Figure size 432x288 with 1 Axes>"
            ],
            "image/png": "[encoded data removed]"
          },
          "metadata": {
            "needs_background": "light"
          }
        }
      ]
    },
    {
      "cell_type": "code",
      "source": [
        "for attribute in list_of_attributes:\n",
        "  calculated_mean1=df_orig[attribute].mean()\n",
        "  new_mean1=df_new1[attribute].mean()\n",
        "  print(\"mean of original file \",attribute,\"is\",calculated_mean1)\n",
        "  print(\"mean of new file \",attribute,\"is\",new_mean1)\n",
        "\n",
        "  calculated_median1=df_orig[attribute].median()\n",
        "  new_median1=df_new1[attribute].median()\n",
        "  print(\"median of original file \",attribute,\"is\",calculated_median1)\n",
        "  print(\"median of new file \",attribute,\"is\",new_median1)\n",
        "\n",
        "  calculated_mode1=df_orig[attribute].mode()\n",
        "  new_mode1=df_new1[attribute].mode()\n",
        "  print(\"mode of original file \",attribute,\"is\",calculated_mode1)\n",
        "  print(\"mode of new file \",attribute,\"is\",new_mode1)\n",
        "\n",
        "  calculated_standard_deviation1=df_orig[attribute].std()\n",
        "  new_std1=df_new1[attribute].std()\n",
        "  print(\"standard deviation of original file\",attribute,\"is\",calculated_standard_deviation1)\n",
        "  print(\"standard deviation of new file \",attribute,\"is\",new_std1)\n",
        "  print(\"-------------------\")\n",
        "\n"
      ],
      "metadata": {
        "colab": {
          "base_uri": "https://localhost:8080/"
        },
        "id": "h2z6h7DZkNUH",
        "outputId": "ffe43241-e65e-473a-81ed-570d4528eb99"
      },
      "execution_count": 29,
      "outputs": [
        {
          "output_type": "stream",
          "name": "stdout",
          "text": [
            "mean of original file  temperature is 21.2148881058201\n",
            "mean of new file  temperature is 21.196222460317465\n",
            "median of original file  temperature is 22.27273\n",
            "median of new file  temperature is 22.16921\n",
            "mode of original file  temperature is 0    12.72727\n",
            "dtype: float64\n",
            "mode of new file  temperature is 0    12.72727\n",
            "dtype: float64\n",
            "standard deviation of original file temperature is 4.355817940432199\n",
            "standard deviation of new file  temperature is 4.3295041165853245\n",
            "-------------------\n",
            "mean of original file  humidity is 83.47993155555555\n",
            "mean of new file  humidity is 83.5382453121693\n",
            "median of original file  humidity is 91.38095\n",
            "median of new file  humidity is 91.38095\n",
            "mode of original file  humidity is 0    99.0\n",
            "dtype: float64\n",
            "mode of new file  humidity is 0    99.0\n",
            "dtype: float64\n",
            "standard deviation of original file humidity is 18.210064667980546\n",
            "standard deviation of new file  humidity is 18.206726644570708\n",
            "-------------------\n",
            "mean of original file  pressure is 1009.0087738022222\n",
            "mean of new file  pressure is 1009.2647580128042\n",
            "median of original file  pressure is 1014.677832\n",
            "median of new file  pressure is 1014.677832\n",
            "mode of original file  pressure is 0    789.392692\n",
            "dtype: float64\n",
            "mode of new file  pressure is 0    789.392692\n",
            "dtype: float64\n",
            "standard deviation of original file pressure is 46.98047725024857\n",
            "standard deviation of new file  pressure is 45.9987915131675\n",
            "-------------------\n",
            "mean of original file  rain is 10701.53837037037\n",
            "mean of new file  rain is 10651.63837037037\n",
            "median of original file  rain is 18.0\n",
            "median of new file  rain is 22.5\n",
            "mode of original file  rain is 0    0.0\n",
            "dtype: float64\n",
            "mode of new file  rain is 0    0.0\n",
            "dtype: float64\n",
            "standard deviation of original file rain is 24852.255288053453\n",
            "standard deviation of new file  rain is 24779.512082107944\n",
            "-------------------\n",
            "mean of original file  lightavgw/o0 is 4438.428453333333\n",
            "mean of new file  lightavgw/o0 is 4486.340771904761\n",
            "median of original file  lightavgw/o0 is 1656.88\n",
            "median of new file  lightavgw/o0 is 1623.4941\n",
            "mode of original file  lightavgw/o0 is 0    4488.9103\n",
            "dtype: float64\n",
            "mode of new file  lightavgw/o0 is 0    4488.9103\n",
            "dtype: float64\n",
            "standard deviation of original file lightavgw/o0 is 7573.162806138657\n",
            "standard deviation of new file  lightavgw/o0 is 7573.795423509351\n",
            "-------------------\n",
            "mean of original file  lightmax is 21788.62328042328\n",
            "mean of new file  lightmax is 21517.191005291006\n",
            "median of original file  lightmax is 6634.0\n",
            "median of new file  lightmax is 6569.0\n",
            "mode of original file  lightmax is 0    4000\n",
            "dtype: int64\n",
            "mode of new file  lightmax is 0    4000.0\n",
            "dtype: float64\n",
            "standard deviation of original file lightmax is 22064.993088694104\n",
            "standard deviation of new file  lightmax is 21935.16574130515\n",
            "-------------------\n",
            "mean of original file  moisture is 32.38605259259259\n",
            "mean of new file  moisture is 32.32743126984127\n",
            "median of original file  moisture is 16.7042\n",
            "median of new file  moisture is 16.3066\n",
            "mode of original file  moisture is 0    0.0\n",
            "dtype: float64\n",
            "mode of new file  moisture is 0    0.0\n",
            "dtype: float64\n",
            "standard deviation of original file moisture is 33.653244650764854\n",
            "standard deviation of new file  moisture is 33.60256566265083\n",
            "-------------------\n"
          ]
        }
      ]
    },
    {
      "cell_type": "code",
      "source": [
        "y_pts1=[]\n",
        "for attribute in list_of_attributes:\n",
        "    diff=(df_orig[attribute]-df_new1[attribute])**2\n",
        "    rmse1=((diff).mean())**0.5\n",
        "    \n",
        "    y_pts1.append(rmse1)\n",
        "print(y_pts1)\n",
        "\n",
        "plt.plot(list_of_attributes,y_pts1)\n",
        "plt.xticks(rotation='vertical')"
      ],
      "metadata": {
        "colab": {
          "base_uri": "https://localhost:8080/",
          "height": 358
        },
        "id": "i9GR6pL0lXNU",
        "outputId": "3c9b8084-c78b-4b2e-d53b-4c146207c498"
      },
      "execution_count": 30,
      "outputs": [
        {
          "output_type": "stream",
          "name": "stdout",
          "text": [
            "[0.49039317926772374, 0.8393130045849451, 7.03347175329215, 1206.1476861370707, 1241.5914494441092, 3830.8293360939574, 1.27346446390451]\n"
          ]
        },
        {
          "output_type": "execute_result",
          "data": {
            "text/plain": [
              "([0, 1, 2, 3, 4, 5, 6], <a list of 7 Text major ticklabel objects>)"
            ]
          },
          "metadata": {},
          "execution_count": 30
        },
        {
          "output_type": "display_data",
          "data": {
            "text/plain": [
              "<Figure size 432x288 with 1 Axes>"
            ],
            "image/png": "[encoded data removed]"
          },
          "metadata": {
            "needs_background": "light"
          }
        }
      ]
    },
    {
      "cell_type": "code",
      "source": [
        "median_t=df_new1['temperature'].median()\n",
        "median_r=df_new1['rain'].median()\n",
        "lower_bound=[]\n",
        "upper_bound=[]\n",
        "\n",
        "plt.boxplot(df_new1['temperature'])\n",
        "plt.title('temperature')\n",
        "plt.show()\n",
        "plt.boxplot(df_new1['rain'])\n",
        "plt.title('rain')\n",
        "plt.show()\n",
        "\n",
        "q1 = df_new1.quantile(0.25)\n",
        "\n",
        "q1=list(q1)\n",
        "\n",
        "q3 = df_new1.quantile(0.75)\n",
        "q3=list(q3)\n",
        "\n",
        "\n",
        "list_outlier_t=[]\n",
        "iqr_t = q3[0]-q1[0]\n",
        "\n",
        "\n",
        "lower_bound.append(q1[0]-(1.5*iqr_t))\n",
        "upper_bound.append(q3[0]+(1.5*iqr_t))\n",
        "temperature=list(df_new1['temperature'])\n",
        "\n",
        "for i in temperature:\n",
        "  if i>=upper_bound[0] or i<=lower_bound[0]:\n",
        "    list_outlier_t.append(i)\n",
        "print(\"outliers in temperature:\",list_outlier_t)\n",
        "\n",
        "\n",
        "\n"
      ],
      "metadata": {
        "colab": {
          "base_uri": "https://localhost:8080/",
          "height": 562
        },
        "id": "d1Q2VOnSl2Tk",
        "outputId": "3636e5ca-3897-4de2-b4e2-a5c6e5b39828"
      },
      "execution_count": 33,
      "outputs": [
        {
          "output_type": "display_data",
          "data": {
            "text/plain": [
              "<Figure size 432x288 with 1 Axes>"
            ],
            "image/png": "[encoded data removed]"
          },
          "metadata": {
            "needs_background": "light"
          }
        },
        {
          "output_type": "display_data",
          "data": {
            "text/plain": [
              "<Figure size 432x288 with 1 Axes>"
            ],
            "image/png": "[encoded data removed]"
          },
          "metadata": {
            "needs_background": "light"
          }
        },
        {
          "output_type": "stream",
          "name": "stdout",
          "text": [
            "outliers in temperature: [7.6729, 7.6729, 7.6729, 7.6729, 7.6729, 7.6729, 7.6729, 7.6729, 7.6729, 7.6729]\n"
          ]
        }
      ]
    },
    {
      "cell_type": "code",
      "source": [
        "\n",
        "\n",
        "\n",
        "\n",
        "list_outlier_r=[]\n",
        "iqr_r = q3[3]-q1[3]\n",
        "\n",
        "\n",
        "lower_bound.append(q1[3]-(1.5*iqr_r))\n",
        "upper_bound.append(q3[3]+(1.5*iqr_r))\n",
        "rain=list(df_new['rain'])\n",
        "\n",
        "for i in rain:\n",
        "     \n",
        "  if i>=upper_bound[1] or i<=lower_bound[1]:\n",
        "    list_outlier_r.append(i)\n",
        "print(\"outliers in rain:\",list_outlier_r)\n",
        "\n"
      ],
      "metadata": {
        "id": "G0l-GZdR_8Ke",
        "colab": {
          "base_uri": "https://localhost:8080/"
        },
        "outputId": "3ec4f263-e1ca-4b55-cf5a-d581a501864b"
      },
      "execution_count": 21,
      "outputs": [
        {
          "output_type": "stream",
          "name": "stdout",
          "text": [
            "outliers in rain: [13583.25, 6791.625, 15459.75, 14001.75, 16571.25, 13666.5, 59982.75, 80000.0, 75048.75, 80000.0, 80000.0, 80000.0, 80000.0, 3930.5, 36636.75, 40789.0, 2470.5, 63256.5, 54616.5, 50172.75, 37928.25, 26178.75, 3138.75, 3449.25, 18884.25, 9765.0, 18976.5, 30393.0, 2814.75, 25697.25, 80000.0, 82037.25, 56319.75, 71968.5, 80000.0, 80000.0, 50242.5, 80000.0, 80000.0, 80000.0, 80000.0, 80000.0, 80000.0, 80000.0, 80000.0, 80000.0, 80000.0, 80000.0, 80000.0, 80000.0, 80000.0, 80000.0, 80000.0, 80000.0, 80000.0, 80000.0, 80000.0, 80000.0, 80000.0, 80000.0, 80000.0, 80000.0, 80000.0, 80000.0, 80000.0, 80000.0, 80000.0, 80000.0, 60675.75, 41463.0, 22250.25, 2637.0, 80000.0, 80000.0, 80000.0, 80000.0, 80000.0, 80000.0, 80000.0, 37392.75, 49725.0, 80000.0, 80000.0, 71154.0, 80000.0, 80000.0, 12854.25, 34879.5, 4610.25, 6210.0, 10557.0, 3451.5, 3312.0, 18285.75, 3613.5, 2893.5, 23474.25, 14042.25, 3647.25, 5877.0, 10062.0, 17997.75, 29517.75, 32514.75, 13943.25, 4212.0, 4691.25, 7519.5, 11112.75, 2821.5, 33941.25, 43643.25, 20664.0, 11144.25, 18587.25, 18373.5, 15646.5, 12915.0, 49916.25, 24522.75, 75105.0, 73417.5, 70580.25, 78126.75, 56097.0, 6061.5, 38355.75, 55509.75, 43974.0, 6747.75, 54843.75, 59377.5, 58320.0, 60963.75, 63342.0, 67378.5, 70929.0, 73158.75, 71367.75, 73838.25, 46732.5, 48429.0, 67830.75, 75447.0, 74646.0, 75402.0, 75723.75, 74254.5, 75201.75, 77044.5, 74472.75, 77503.5, 78180.75, 79915.5, 80583.75, 80482.5, 79337.25, 79317.0, 70823.25, 75638.25, 73752.75, 65893.5, 72774.0, 7773.75, 12037.5, 79839.0, 78633.0, 78779.25, 76662.0, 67252.5, 74913.75, 4869.0, 41618.25, 58443.75, 74173.5, 72445.5, 65873.25, 67675.5, 61989.75, 71237.25, 73577.25, 65301.75, 73534.5, 72283.5, 71799.75]\n"
          ]
        }
      ]
    },
    {
      "cell_type": "code",
      "source": [
        "import matplotlib.pyplot as plt\n",
        "\n",
        "   \n",
        "\n",
        "\n",
        "df_new['temperature']=df_new['temperature'].replace(list_outlier_t,median_t)\n",
        "plt.boxplot(df_new['temperature'])\n",
        "\n",
        "plt.title(\"temperature boxplot\")\n",
        "plt.show()\n",
        "\n",
        "\n",
        "df_new['rain']=df_new['rain'].replace(list_outlier_r,median_r)\n",
        "plt.boxplot(df_new['rain'])\n",
        "\n",
        "\n",
        "plt.title(\"rain boxplot\")\n",
        "plt.show()\n"
      ],
      "metadata": {
        "colab": {
          "base_uri": "https://localhost:8080/",
          "height": 562
        },
        "id": "5lZJgsZjBq2l",
        "outputId": "cd74f4db-1e4e-459d-e01e-84601f5e0bdf"
      },
      "execution_count": 22,
      "outputs": [
        {
          "output_type": "stream",
          "name": "stdout",
          "text": [
            "22.16921\n"
          ]
        },
        {
          "output_type": "display_data",
          "data": {
            "text/plain": [
              "<Figure size 432x288 with 1 Axes>"
            ],
            "image/png": "[encoded data removed]"
          },
          "metadata": {
            "needs_background": "light"
          }
        },
        {
          "output_type": "display_data",
          "data": {
            "text/plain": [
              "<Figure size 432x288 with 1 Axes>"
            ],
            "image/png": "[encoded data removed]"
          },
          "metadata": {
            "needs_background": "light"
          }
        }
      ]
    }
  ]
}